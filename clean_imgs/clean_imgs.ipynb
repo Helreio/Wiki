{
 "cells": [
  {
   "cell_type": "code",
   "execution_count": 1,
   "metadata": {},
   "outputs": [],
   "source": [
    "import os\n",
    "import markdown\n",
    "\n",
    "# Definir las rutas de los directorios de archivos .md y de imágenes.\n",
    "ruta_md = \"/home/valentinottaviano/Documents/quartz/content\"\n",
    "ruta_imagenes = \"/home/valentinottaviano/Documents/quartz/clean_imgs/Images\""
   ]
  },
  {
   "cell_type": "code",
   "execution_count": 3,
   "metadata": {},
   "outputs": [],
   "source": [
    "to_delete_number = 0\n",
    "\n",
    "# Función para buscar archivos .md de manera recursiva en un directorio.\n",
    "def buscar_archivos_md(directorio):\n",
    "    archivos_md = []\n",
    "    for root, dirs, files in os.walk(directorio):\n",
    "        for file in files:\n",
    "            if file.endswith(\".md\"):\n",
    "                archivos_md.append(os.path.join(root, file))\n",
    "    return archivos_md\n",
    "\n",
    "# Crear una lista de todos los nombres de archivos .md en el directorio de imágenes.\n",
    "archivos_md = buscar_archivos_md(ruta_md)\n",
    "\n",
    "# Crear una lista de todos los nombres de imágenes en el directorio de imágenes.\n",
    "imagenes = [imagen for imagen in os.listdir(ruta_imagenes) if imagen.endswith((\".jpg\", \".png\", \".jpeg\"))]\n",
    "\n",
    "# Recorrer las imágenes y verificar si sus nombres se encuentran en algún archivo .md.\n",
    "for imagen in imagenes:\n",
    "    esta_en_md = False\n",
    "    for archivo_md in archivos_md:\n",
    "        with open(archivo_md, \"r\") as archivo:\n",
    "            contenido_md = archivo.read()\n",
    "            if imagen in contenido_md:\n",
    "                esta_en_md = True\n",
    "                break\n",
    "    if not esta_en_md:\n",
    "        # La imagen no se encuentra en ningún archivo .md, así que la eliminamos.\n",
    "        ruta_imagen = os.path.join(ruta_imagenes, imagen)\n",
    "        os.remove(ruta_imagen)\n"
   ]
  }
 ],
 "metadata": {
  "kernelspec": {
   "display_name": "Python 3",
   "language": "python",
   "name": "python3"
  },
  "language_info": {
   "codemirror_mode": {
    "name": "ipython",
    "version": 3
   },
   "file_extension": ".py",
   "mimetype": "text/x-python",
   "name": "python",
   "nbconvert_exporter": "python",
   "pygments_lexer": "ipython3",
   "version": "3.10.12"
  }
 },
 "nbformat": 4,
 "nbformat_minor": 2
}
